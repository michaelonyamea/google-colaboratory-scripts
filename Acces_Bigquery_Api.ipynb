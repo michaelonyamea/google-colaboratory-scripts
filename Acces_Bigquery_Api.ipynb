{
  "nbformat": 4,
  "nbformat_minor": 0,
  "metadata": {
    "colab": {
      "name": "Acces Bigquery Api.ipynb",
      "provenance": [],
      "collapsed_sections": [],
      "authorship_tag": "ABX9TyMFg9qWWkRO76EK7uXviUC1",
      "include_colab_link": true
    },
    "kernelspec": {
      "name": "python3",
      "display_name": "Python 3"
    },
    "language_info": {
      "name": "python"
    }
  },
  "cells": [
    {
      "cell_type": "markdown",
      "metadata": {
        "id": "view-in-github",
        "colab_type": "text"
      },
      "source": [
        "<a href=\"https://colab.research.google.com/github/michaelonyamea/google-colaboratory-scripts/blob/main/Acces_Bigquery_Api.ipynb\" target=\"_parent\"><img src=\"https://colab.research.google.com/assets/colab-badge.svg\" alt=\"Open In Colab\"/></a>"
      ]
    },
    {
      "cell_type": "markdown",
      "metadata": {
        "id": "V6oihPTEAdvL"
      },
      "source": [
        "**1. Authenicate To GCP**"
      ]
    },
    {
      "cell_type": "code",
      "metadata": {
        "id": "lIR5JDgZmVnK",
        "colab": {
          "base_uri": "https://localhost:8080/"
        },
        "outputId": "3946afa3-cfba-4df3-cb87-339141834cf0"
      },
      "source": [
        "1 from google.colab import auth\n",
        "2 auth.authenticate_user()"
      ],
      "execution_count": 1,
      "outputs": [
        {
          "output_type": "execute_result",
          "data": {
            "text/plain": [
              "116640"
            ]
          },
          "metadata": {
            "tags": []
          },
          "execution_count": 1
        }
      ]
    },
    {
      "cell_type": "markdown",
      "metadata": {
        "id": "y7c2mENfBOuU"
      },
      "source": [
        "Let's specify which project_id we are going to use"
      ]
    },
    {
      "cell_type": "code",
      "metadata": {
        "id": "NBqwWDO5BaLk"
      },
      "source": [
        "1 project_id = 'hazel-env- 310501'"
      ],
      "execution_count": null,
      "outputs": []
    },
    {
      "cell_type": "markdown",
      "metadata": {
        "id": "CL41RevXJELf"
      },
      "source": [
        "**2. Connect to the BigQuery API**"
      ]
    },
    {
      "cell_type": "code",
      "metadata": {
        "colab": {
          "base_uri": "https://localhost:8080/",
          "height": 129
        },
        "id": "A4U3LiZFJYtw",
        "outputId": "29ecb747-ea8a-4618-83c2-de69b2c88869"
      },
      "source": [
        "1 from.google.cloud import bigquery"
      ],
      "execution_count": 4,
      "outputs": [
        {
          "output_type": "error",
          "ename": "SyntaxError",
          "evalue": "ignored",
          "traceback": [
            "\u001b[0;36m  File \u001b[0;32m\"<ipython-input-4-6fd4de1cbc28>\"\u001b[0;36m, line \u001b[0;32m1\u001b[0m\n\u001b[0;31m    1 from.google.cloud import bigquery\u001b[0m\n\u001b[0m         ^\u001b[0m\n\u001b[0;31mSyntaxError\u001b[0m\u001b[0;31m:\u001b[0m invalid syntax\n"
          ]
        }
      ]
    },
    {
      "cell_type": "code",
      "metadata": {
        "id": "ODRt4BsZJ2Hu"
      },
      "source": [
        "1 client = bigquery.Client (project=project_id)"
      ],
      "execution_count": null,
      "outputs": []
    },
    {
      "cell_type": "markdown",
      "metadata": {
        "id": "8fZvE0zrKbs3"
      },
      "source": [
        "**3. Acces the Dataset (public or private)**"
      ]
    },
    {
      "cell_type": "markdown",
      "metadata": {
        "id": "hYA2oLS_K51L"
      },
      "source": [
        "Let's put a reference for the dataset"
      ]
    },
    {
      "cell_type": "code",
      "metadata": {
        "id": "tgcWbv8dLbBB"
      },
      "source": [
        "1 dataset_ref = client.dataset(\"hacker_news\"), project=\"bigquery-public-data\")\n",
        "2 dataset = client.get_dataset_ref)"
      ],
      "execution_count": null,
      "outputs": []
    },
    {
      "cell_type": "markdown",
      "metadata": {
        "id": "NRxtROX-Mshs"
      },
      "source": [
        "**4. List your tables**"
      ]
    },
    {
      "cell_type": "code",
      "metadata": {
        "id": "198_BFsdM_NC"
      },
      "source": [
        "1 tables = list (client.list_tables(dataset))\n",
        "2\n",
        "3 for table in tables:\n",
        "4    print(table.table_id)"
      ],
      "execution_count": null,
      "outputs": []
    },
    {
      "cell_type": "markdown",
      "metadata": {
        "id": "T_JqPJKQPtIN"
      },
      "source": [
        "**5. Check the table schema**"
      ]
    },
    {
      "cell_type": "code",
      "metadata": {
        "colab": {
          "base_uri": "https://localhost:8080/",
          "height": 129
        },
        "id": "k_H0kZryRv36",
        "outputId": "767afe5f-4cf7-4cd9-dd24-7aed015e9fe2"
      },
      "source": [
        "1 table_ref = dataset_ref.table('full')\n",
        "2 table = client.get_table(table_ref)"
      ],
      "execution_count": 3,
      "outputs": [
        {
          "output_type": "error",
          "ename": "SyntaxError",
          "evalue": "ignored",
          "traceback": [
            "\u001b[0;36m  File \u001b[0;32m\"<ipython-input-3-5385e971cdb2>\"\u001b[0;36m, line \u001b[0;32m1\u001b[0m\n\u001b[0;31m    1 table_ref = dataset_ref.table('full')\u001b[0m\n\u001b[0m              ^\u001b[0m\n\u001b[0;31mSyntaxError\u001b[0m\u001b[0;31m:\u001b[0m invalid syntax\n"
          ]
        }
      ]
    },
    {
      "cell_type": "code",
      "metadata": {
        "id": "T3HWc3YzSkOS"
      },
      "source": [
        "1 table.schema"
      ],
      "execution_count": null,
      "outputs": []
    },
    {
      "cell_type": "markdown",
      "metadata": {
        "id": "RgpsaUcATXvy"
      },
      "source": [
        "**5. Show your data in a dataframe**"
      ]
    },
    {
      "cell_type": "code",
      "metadata": {
        "id": "PRwx1GK1UAax"
      },
      "source": [
        "1 client_list_rows(table, max_results=5).to_dataframe()"
      ],
      "execution_count": null,
      "outputs": []
    }
  ]
}